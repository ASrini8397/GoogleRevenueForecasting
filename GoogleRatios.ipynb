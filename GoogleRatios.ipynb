{
 "cells": [
  {
   "cell_type": "code",
   "execution_count": 1,
   "id": "73b8c450",
   "metadata": {},
   "outputs": [],
   "source": [
    "import pandas as pd\n",
    "import numpy as np"
   ]
  },
  {
   "cell_type": "code",
   "execution_count": 2,
   "id": "525376cc",
   "metadata": {},
   "outputs": [
    {
     "name": "stdout",
     "output_type": "stream",
     "text": [
      "<class 'pandas.core.frame.DataFrame'>\n",
      "DatetimeIndex: 4460 entries, 2004-08-20 to 2022-05-06\n",
      "Data columns (total 6 columns):\n",
      " #   Column     Non-Null Count  Dtype  \n",
      "---  ------     --------------  -----  \n",
      " 0   Open       4460 non-null   float64\n",
      " 1   High       4460 non-null   float64\n",
      " 2   Low        4460 non-null   float64\n",
      " 3   Close      4460 non-null   float64\n",
      " 4   Adj Close  4460 non-null   float64\n",
      " 5   Volume     4460 non-null   int64  \n",
      "dtypes: float64(5), int64(1)\n",
      "memory usage: 243.9 KB\n"
     ]
    }
   ],
   "source": [
    "google=pd.read_csv('/Users/apple/Desktop/Python-Finance-QuantConnect/DATA/GOOG.csv', index_col='Date', parse_dates=True)\n",
    "google.info()"
   ]
  },
  {
   "cell_type": "code",
   "execution_count": 12,
   "id": "1bb57772",
   "metadata": {},
   "outputs": [
    {
     "data": {
      "text/html": [
       "<div>\n",
       "<style scoped>\n",
       "    .dataframe tbody tr th:only-of-type {\n",
       "        vertical-align: middle;\n",
       "    }\n",
       "\n",
       "    .dataframe tbody tr th {\n",
       "        vertical-align: top;\n",
       "    }\n",
       "\n",
       "    .dataframe thead th {\n",
       "        text-align: right;\n",
       "    }\n",
       "</style>\n",
       "<table border=\"1\" class=\"dataframe\">\n",
       "  <thead>\n",
       "    <tr style=\"text-align: right;\">\n",
       "      <th></th>\n",
       "      <th>Open</th>\n",
       "      <th>High</th>\n",
       "      <th>Low</th>\n",
       "      <th>Close</th>\n",
       "      <th>Adj Close</th>\n",
       "      <th>Volume</th>\n",
       "      <th>Daily Ret</th>\n",
       "      <th>DailyRet</th>\n",
       "    </tr>\n",
       "    <tr>\n",
       "      <th>Date</th>\n",
       "      <th></th>\n",
       "      <th></th>\n",
       "      <th></th>\n",
       "      <th></th>\n",
       "      <th></th>\n",
       "      <th></th>\n",
       "      <th></th>\n",
       "      <th></th>\n",
       "    </tr>\n",
       "  </thead>\n",
       "  <tbody>\n",
       "    <tr>\n",
       "      <th>2004-08-24</th>\n",
       "      <td>55.412300</td>\n",
       "      <td>55.591629</td>\n",
       "      <td>51.591621</td>\n",
       "      <td>52.239197</td>\n",
       "      <td>52.239197</td>\n",
       "      <td>15319808</td>\n",
       "      <td>-0.041408</td>\n",
       "      <td>-0.041408</td>\n",
       "    </tr>\n",
       "    <tr>\n",
       "      <th>2004-08-25</th>\n",
       "      <td>52.284027</td>\n",
       "      <td>53.798351</td>\n",
       "      <td>51.746044</td>\n",
       "      <td>52.802086</td>\n",
       "      <td>52.802086</td>\n",
       "      <td>9232276</td>\n",
       "      <td>0.010775</td>\n",
       "      <td>0.010775</td>\n",
       "    </tr>\n",
       "    <tr>\n",
       "      <th>2004-08-26</th>\n",
       "      <td>52.279045</td>\n",
       "      <td>53.773445</td>\n",
       "      <td>52.134586</td>\n",
       "      <td>53.753517</td>\n",
       "      <td>53.753517</td>\n",
       "      <td>7128620</td>\n",
       "      <td>0.018019</td>\n",
       "      <td>0.018019</td>\n",
       "    </tr>\n",
       "    <tr>\n",
       "      <th>2004-08-27</th>\n",
       "      <td>53.848164</td>\n",
       "      <td>54.107193</td>\n",
       "      <td>52.647663</td>\n",
       "      <td>52.876804</td>\n",
       "      <td>52.876804</td>\n",
       "      <td>6241307</td>\n",
       "      <td>-0.016310</td>\n",
       "      <td>-0.016310</td>\n",
       "    </tr>\n",
       "    <tr>\n",
       "      <th>2004-08-30</th>\n",
       "      <td>52.443428</td>\n",
       "      <td>52.548038</td>\n",
       "      <td>50.814533</td>\n",
       "      <td>50.814533</td>\n",
       "      <td>50.814533</td>\n",
       "      <td>5221498</td>\n",
       "      <td>-0.039001</td>\n",
       "      <td>-0.039001</td>\n",
       "    </tr>\n",
       "    <tr>\n",
       "      <th>...</th>\n",
       "      <td>...</td>\n",
       "      <td>...</td>\n",
       "      <td>...</td>\n",
       "      <td>...</td>\n",
       "      <td>...</td>\n",
       "      <td>...</td>\n",
       "      <td>...</td>\n",
       "      <td>...</td>\n",
       "    </tr>\n",
       "    <tr>\n",
       "      <th>2022-05-02</th>\n",
       "      <td>2278.129883</td>\n",
       "      <td>2346.790039</td>\n",
       "      <td>2267.989990</td>\n",
       "      <td>2343.139893</td>\n",
       "      <td>2343.139893</td>\n",
       "      <td>1514000</td>\n",
       "      <td>0.019053</td>\n",
       "      <td>0.019053</td>\n",
       "    </tr>\n",
       "    <tr>\n",
       "      <th>2022-05-03</th>\n",
       "      <td>2335.300049</td>\n",
       "      <td>2386.000000</td>\n",
       "      <td>2332.540039</td>\n",
       "      <td>2362.590088</td>\n",
       "      <td>2362.590088</td>\n",
       "      <td>1060800</td>\n",
       "      <td>0.008301</td>\n",
       "      <td>0.008301</td>\n",
       "    </tr>\n",
       "    <tr>\n",
       "      <th>2022-05-04</th>\n",
       "      <td>2360.070068</td>\n",
       "      <td>2462.860107</td>\n",
       "      <td>2314.770020</td>\n",
       "      <td>2451.500000</td>\n",
       "      <td>2451.500000</td>\n",
       "      <td>1661600</td>\n",
       "      <td>0.037632</td>\n",
       "      <td>0.037632</td>\n",
       "    </tr>\n",
       "    <tr>\n",
       "      <th>2022-05-05</th>\n",
       "      <td>2404.409912</td>\n",
       "      <td>2424.665039</td>\n",
       "      <td>2303.649902</td>\n",
       "      <td>2334.929932</td>\n",
       "      <td>2334.929932</td>\n",
       "      <td>2154500</td>\n",
       "      <td>-0.047551</td>\n",
       "      <td>-0.047551</td>\n",
       "    </tr>\n",
       "    <tr>\n",
       "      <th>2022-05-06</th>\n",
       "      <td>2310.379883</td>\n",
       "      <td>2349.969971</td>\n",
       "      <td>2282.860107</td>\n",
       "      <td>2313.199951</td>\n",
       "      <td>2313.199951</td>\n",
       "      <td>1764000</td>\n",
       "      <td>-0.009306</td>\n",
       "      <td>-0.009306</td>\n",
       "    </tr>\n",
       "  </tbody>\n",
       "</table>\n",
       "<p>4458 rows × 8 columns</p>\n",
       "</div>"
      ],
      "text/plain": [
       "                   Open         High          Low        Close    Adj Close  \\\n",
       "Date                                                                          \n",
       "2004-08-24    55.412300    55.591629    51.591621    52.239197    52.239197   \n",
       "2004-08-25    52.284027    53.798351    51.746044    52.802086    52.802086   \n",
       "2004-08-26    52.279045    53.773445    52.134586    53.753517    53.753517   \n",
       "2004-08-27    53.848164    54.107193    52.647663    52.876804    52.876804   \n",
       "2004-08-30    52.443428    52.548038    50.814533    50.814533    50.814533   \n",
       "...                 ...          ...          ...          ...          ...   \n",
       "2022-05-02  2278.129883  2346.790039  2267.989990  2343.139893  2343.139893   \n",
       "2022-05-03  2335.300049  2386.000000  2332.540039  2362.590088  2362.590088   \n",
       "2022-05-04  2360.070068  2462.860107  2314.770020  2451.500000  2451.500000   \n",
       "2022-05-05  2404.409912  2424.665039  2303.649902  2334.929932  2334.929932   \n",
       "2022-05-06  2310.379883  2349.969971  2282.860107  2313.199951  2313.199951   \n",
       "\n",
       "              Volume  Daily Ret  DailyRet  \n",
       "Date                                       \n",
       "2004-08-24  15319808  -0.041408 -0.041408  \n",
       "2004-08-25   9232276   0.010775  0.010775  \n",
       "2004-08-26   7128620   0.018019  0.018019  \n",
       "2004-08-27   6241307  -0.016310 -0.016310  \n",
       "2004-08-30   5221498  -0.039001 -0.039001  \n",
       "...              ...        ...       ...  \n",
       "2022-05-02   1514000   0.019053  0.019053  \n",
       "2022-05-03   1060800   0.008301  0.008301  \n",
       "2022-05-04   1661600   0.037632  0.037632  \n",
       "2022-05-05   2154500  -0.047551 -0.047551  \n",
       "2022-05-06   1764000  -0.009306 -0.009306  \n",
       "\n",
       "[4458 rows x 8 columns]"
      ]
     },
     "execution_count": 12,
     "metadata": {},
     "output_type": "execute_result"
    }
   ],
   "source": [
    "google['DailyRet']=google['Adj Close'].pct_change(1)\n",
    "google=google.dropna()\n",
    "google"
   ]
  },
  {
   "cell_type": "code",
   "execution_count": 13,
   "id": "4a8dec60",
   "metadata": {},
   "outputs": [
    {
     "data": {
      "text/plain": [
       "0.019100573394156377"
      ]
     },
     "execution_count": 13,
     "metadata": {},
     "output_type": "execute_result"
    }
   ],
   "source": [
    "google['DailyRet'].std()"
   ]
  },
  {
   "cell_type": "code",
   "execution_count": 14,
   "id": "4272aa95",
   "metadata": {},
   "outputs": [],
   "source": [
    "def compSR(df, rf=0):\n",
    "    meanRet=df['DailyRet'].mean()\n",
    "    stdDev=df['DailyRet'].std()\n",
    "    SR=((meanRet-rf)/stdDev)\n",
    "    return SR"
   ]
  },
  {
   "cell_type": "code",
   "execution_count": 16,
   "id": "9cf4ab39",
   "metadata": {},
   "outputs": [],
   "source": [
    "GoogleSR=compSR(google)"
   ]
  },
  {
   "cell_type": "code",
   "execution_count": 18,
   "id": "ce92f62a",
   "metadata": {},
   "outputs": [
    {
     "data": {
      "text/plain": [
       "0.05350727325319511"
      ]
     },
     "execution_count": 18,
     "metadata": {},
     "output_type": "execute_result"
    }
   ],
   "source": [
    "GoogleSR"
   ]
  },
  {
   "cell_type": "markdown",
   "id": "87e22d57",
   "metadata": {},
   "source": [
    "Google Sharpe Ratio"
   ]
  },
  {
   "cell_type": "code",
   "execution_count": 19,
   "id": "715c4326",
   "metadata": {},
   "outputs": [],
   "source": [
    "def Sortino(df, threshold=0,rf=0.0):\n",
    "    meanRet=df['DailyRet'].mean()\n",
    "    downside_risk=df[df['DailyRet']<threshold]['DailyRet']\n",
    "    stdDev=downside_risk.std()\n",
    "    SortinoRatio=(meanRet-rf)/stdDev\n",
    "    return SortinoRatio* (252**0.5)"
   ]
  },
  {
   "cell_type": "code",
   "execution_count": 20,
   "id": "49058b54",
   "metadata": {},
   "outputs": [
    {
     "data": {
      "text/plain": [
       "1.212829962322287"
      ]
     },
     "execution_count": 20,
     "metadata": {},
     "output_type": "execute_result"
    }
   ],
   "source": [
    "GoogleSortino=Sortino(google)\n",
    "GoogleSortino"
   ]
  },
  {
   "cell_type": "markdown",
   "id": "1d6638f7",
   "metadata": {},
   "source": [
    "Google Sortino Ratio"
   ]
  },
  {
   "cell_type": "code",
   "execution_count": 21,
   "id": "589f9461",
   "metadata": {},
   "outputs": [],
   "source": [
    "import scipy.stats"
   ]
  },
  {
   "cell_type": "code",
   "execution_count": 22,
   "id": "7bed477b",
   "metadata": {},
   "outputs": [],
   "source": [
    "def PSR(df, benchmark=0):\n",
    "    sr=compSR(df)\n",
    "    skew=scipy.stats.skew(df['DailyRet'])\n",
    "    kurtosis=scipy.stats.kurtosis(df['DailyRet'], fisher=True)\n",
    "    n=len(df)\n",
    "    sigmaSR=( (1/(n-1)) * ( 1+ 0.5 *sr**2  +skew*sr+ (kurtosis/4) *sr**2)  )**0.5\n",
    "    finalr= (sr-benchmark)/sigmaSR\n",
    "    psr=scipy.stats.norm.cdf(finalr)\n",
    "    return psr"
   ]
  },
  {
   "cell_type": "code",
   "execution_count": 23,
   "id": "7da4075a",
   "metadata": {},
   "outputs": [
    {
     "data": {
      "text/plain": [
       "15.870657086837394"
      ]
     },
     "execution_count": 23,
     "metadata": {},
     "output_type": "execute_result"
    }
   ],
   "source": [
    "GooglePSR=PSR(google)\n",
    "GooglePSR* (252**.5)"
   ]
  },
  {
   "cell_type": "markdown",
   "id": "12897f87",
   "metadata": {},
   "source": [
    "Google Probabilistic Sharpe Ratio"
   ]
  }
 ],
 "metadata": {
  "kernelspec": {
   "display_name": "Python 3 (ipykernel)",
   "language": "python",
   "name": "python3"
  },
  "language_info": {
   "codemirror_mode": {
    "name": "ipython",
    "version": 3
   },
   "file_extension": ".py",
   "mimetype": "text/x-python",
   "name": "python",
   "nbconvert_exporter": "python",
   "pygments_lexer": "ipython3",
   "version": "3.9.7"
  }
 },
 "nbformat": 4,
 "nbformat_minor": 5
}
